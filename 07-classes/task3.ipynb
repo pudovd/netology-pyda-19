{
 "cells": [
  {
   "cell_type": "markdown",
   "metadata": {},
   "source": [
    "### Задание 3\n",
    "Напишите класс **Designer**, который учитывает количество международных премий."
   ]
  },
  {
   "cell_type": "markdown",
   "metadata": {},
   "source": [
    "**Система повышения сотрудников**\n",
    "\n",
    "**Общие условия**  \n",
    "У сотрудника по умолчанию известно имя и пройденные аккредитации  \n",
    "Успешное прохождение - 1 балл\n",
    "\n",
    "**Разработчики**  \n",
    "Повышение на 1 грейд за каждые 5 баллов\n",
    "\n",
    "**Дизайнеры**  \n",
    "Повышение на 1 грейд за каждые 7 баллов. Получение международной премии - это +2 балла\n",
    "\n",
    "Остальные 5 отделов еще не прислали свои условия"
   ]
  },
  {
   "cell_type": "code",
   "execution_count": 1,
   "metadata": {},
   "outputs": [],
   "source": [
    "class Employee:\n",
    "    def __init__(self, name, seniority):\n",
    "        self.name = name\n",
    "        self.seniority = seniority\n",
    "        \n",
    "        self.grade = 1\n",
    "    \n",
    "    def grade_up(self):\n",
    "        \"\"\"Повышает уровень сотрудника\"\"\"\n",
    "        self.grade += 1\n",
    "    \n",
    "    def publish_grade(self):\n",
    "        \"\"\"Публикация результатов аккредитации сотрудников\"\"\"\n",
    "        print(self.name, self.grade)\n",
    "    \n",
    "    def check_if_it_is_time_for_upgrade(self):\n",
    "        pass"
   ]
  },
  {
   "cell_type": "code",
   "execution_count": 2,
   "metadata": {},
   "outputs": [],
   "source": [
    "class Developer(Employee):\n",
    "    def __init__(self, name, seniority):\n",
    "        super().__init__(name, seniority)\n",
    "    \n",
    "    def check_if_it_is_time_for_upgrade(self):\n",
    "        # для каждой аккредитации увеличиваем счетчик на 1\n",
    "        # пока считаем, что все разработчики проходят аккредитацию\n",
    "        self.seniority += 1\n",
    "        \n",
    "        # условие повышения сотрудника из презентации\n",
    "        if self.seniority % 5 == 0:\n",
    "            self.grade_up()\n",
    "        \n",
    "        # публикация результатов\n",
    "        return self.publish_grade()"
   ]
  },
  {
   "cell_type": "code",
   "execution_count": 3,
   "metadata": {},
   "outputs": [],
   "source": [
    "class Designer(Employee):\n",
    "    def __init__(self, name, seniority):\n",
    "        super().__init__(name, seniority)\n",
    "    \n",
    "    def receive_international_award(self):\n",
    "        self.seniority += 2\n",
    "        \n",
    "        if self.seniority / 7 > self.grade:\n",
    "            self.grade_up()\n",
    "            \n",
    "        return self.publish_grade()"
   ]
  },
  {
   "cell_type": "code",
   "execution_count": 7,
   "metadata": {},
   "outputs": [
    {
     "name": "stdout",
     "output_type": "stream",
     "text": [
      "Петр 1\n",
      "Петр 1\n",
      "Петр 1\n",
      "Петр 2\n",
      "Петр 2\n",
      "Петр 2\n",
      "Петр 2\n",
      "Петр 3\n",
      "Петр 3\n",
      "Петр 3\n",
      "Петр 4\n",
      "Петр 4\n",
      "Петр 4\n",
      "Петр 4\n",
      "Петр 5\n",
      "Петр 5\n",
      "Петр 5\n",
      "Петр 6\n",
      "Петр 6\n",
      "Петр 6\n"
     ]
    }
   ],
   "source": [
    "petr = Designer('Петр', 0)\n",
    "\n",
    "for i in range(20):\n",
    "    petr.receive_international_award()"
   ]
  }
 ],
 "metadata": {
  "kernelspec": {
   "display_name": "Python 3",
   "language": "python",
   "name": "python3"
  },
  "language_info": {
   "codemirror_mode": {
    "name": "ipython",
    "version": 3
   },
   "file_extension": ".py",
   "mimetype": "text/x-python",
   "name": "python",
   "nbconvert_exporter": "python",
   "pygments_lexer": "ipython3",
   "version": "3.8.5"
  }
 },
 "nbformat": 4,
 "nbformat_minor": 4
}
