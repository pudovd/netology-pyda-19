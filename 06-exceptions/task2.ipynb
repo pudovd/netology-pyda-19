{
 "cells": [
  {
   "cell_type": "markdown",
   "metadata": {},
   "source": [
    "### Задание 2\n",
    "Дан поток дат в формате `YYYY-MM-DD`, в которых встречаются некорректные значения:\n",
    "\n",
    "    stream = ['2018-04-02', '2018-02-29', '2018-19-02']\n",
    "\n",
    "Напишите функцию, которая проверяет эти даты на корректность. Т. е. для каждой даты возвращает `True` (дата корректна) или `False` (некорректная дата)."
   ]
  },
  {
   "cell_type": "code",
   "execution_count": 1,
   "metadata": {},
   "outputs": [],
   "source": [
    "from datetime import datetime\n",
    "\n",
    "def check_datetime_for_format(dt_str, dt_format):\n",
    "    try:\n",
    "        dt = datetime.strptime(dt_str, dt_format)\n",
    "        return True\n",
    "    except:\n",
    "        return False"
   ]
  },
  {
   "cell_type": "code",
   "execution_count": 2,
   "metadata": {},
   "outputs": [
    {
     "name": "stdout",
     "output_type": "stream",
     "text": [
      "'2018-04-02' is valid for '%Y-%m-%d'\n",
      "'2018-02-29' is invalid for '%Y-%m-%d'\n",
      "'2018-19-02' is invalid for '%Y-%m-%d'\n"
     ]
    }
   ],
   "source": [
    "# Review output\n",
    "dt_format = '%Y-%m-%d'\n",
    "stream = ['2018-04-02', '2018-02-29', '2018-19-02']\n",
    "\n",
    "checks = [check_datetime_for_format(dt_str, dt_format) for dt_str in stream]\n",
    "\n",
    "for date, check in zip(stream, checks):\n",
    "    if check:\n",
    "        print(f'\\'{date}\\' is valid for \\'{dt_format}\\'')\n",
    "    else:\n",
    "        print(f'\\'{date}\\' is invalid for \\'{dt_format}\\'')"
   ]
  }
 ],
 "metadata": {
  "kernelspec": {
   "display_name": "Python 3",
   "language": "python",
   "name": "python3"
  },
  "language_info": {
   "codemirror_mode": {
    "name": "ipython",
    "version": 3
   },
   "file_extension": ".py",
   "mimetype": "text/x-python",
   "name": "python",
   "nbconvert_exporter": "python",
   "pygments_lexer": "ipython3",
   "version": "3.8.5"
  }
 },
 "nbformat": 4,
 "nbformat_minor": 4
}
