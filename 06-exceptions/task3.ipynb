{
 "cells": [
  {
   "cell_type": "markdown",
   "metadata": {},
   "source": [
    "### Задание 3\n",
    "Напишите функцию `date_range`, которая возвращает список дат за период от `start_date` до `end_date`. Даты должны вводиться в формате `YYYY-MM-DD`. В случае неверного формата или при `start_date > end_date` должен возвращаться пустой список."
   ]
  },
  {
   "cell_type": "code",
   "execution_count": 1,
   "metadata": {},
   "outputs": [],
   "source": [
    "from datetime import datetime\n",
    "from datetime import timedelta\n",
    "\n",
    "def date_range(start_date_str, end_date_str):\n",
    "    try:\n",
    "        start_date = datetime.strptime(start_date_str, '%Y-%m-%d')\n",
    "        end_date = datetime.strptime(end_date_str, '%Y-%m-%d')\n",
    "    except:\n",
    "        return []\n",
    "    \n",
    "    result = []\n",
    "    date = start_date\n",
    "    while(date <= end_date):\n",
    "        result.append(date)\n",
    "        date = date + timedelta(days=1)\n",
    "    \n",
    "    return result"
   ]
  },
  {
   "cell_type": "code",
   "execution_count": 2,
   "metadata": {},
   "outputs": [
    {
     "data": {
      "text/plain": [
       "[datetime.datetime(2021, 3, 19, 0, 0),\n",
       " datetime.datetime(2021, 3, 20, 0, 0),\n",
       " datetime.datetime(2021, 3, 21, 0, 0)]"
      ]
     },
     "execution_count": 2,
     "metadata": {},
     "output_type": "execute_result"
    }
   ],
   "source": [
    "# Review ouput for success case\n",
    "date_range('2021-03-19', '2021-03-21')"
   ]
  },
  {
   "cell_type": "code",
   "execution_count": 3,
   "metadata": {},
   "outputs": [
    {
     "data": {
      "text/plain": [
       "[]"
      ]
     },
     "execution_count": 3,
     "metadata": {},
     "output_type": "execute_result"
    }
   ],
   "source": [
    "# Review output for case when start_date > end_date\n",
    "date_range('2021-03-20', '2021-03-19')"
   ]
  },
  {
   "cell_type": "code",
   "execution_count": 4,
   "metadata": {},
   "outputs": [
    {
     "data": {
      "text/plain": [
       "[]"
      ]
     },
     "execution_count": 4,
     "metadata": {},
     "output_type": "execute_result"
    }
   ],
   "source": [
    "# Reveiw output for case when invalid format\n",
    "date_range('2021-02-29', '2021-03-01')"
   ]
  }
 ],
 "metadata": {
  "kernelspec": {
   "display_name": "Python 3",
   "language": "python",
   "name": "python3"
  },
  "language_info": {
   "codemirror_mode": {
    "name": "ipython",
    "version": 3
   },
   "file_extension": ".py",
   "mimetype": "text/x-python",
   "name": "python",
   "nbconvert_exporter": "python",
   "pygments_lexer": "ipython3",
   "version": "3.8.5"
  }
 },
 "nbformat": 4,
 "nbformat_minor": 4
}
