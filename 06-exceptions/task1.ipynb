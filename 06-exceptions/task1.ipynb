{
 "cells": [
  {
   "cell_type": "markdown",
   "metadata": {},
   "source": [
    "### Задание 1\n",
    "Печатные газеты использовали свой формат дат для каждого выпуска. Для каждой газеты из списка напишите формат указанной даты для перевода в объект datetime:\n",
    "* The Moscow Times - Wednesday, October 2, 2002\n",
    "* The Guardian - Friday, 11.10.13\n",
    "* Daily News - Thursday, 18 August 1977"
   ]
  },
  {
   "cell_type": "code",
   "execution_count": 1,
   "metadata": {},
   "outputs": [],
   "source": [
    "from datetime import datetime"
   ]
  },
  {
   "cell_type": "code",
   "execution_count": 2,
   "metadata": {},
   "outputs": [
    {
     "data": {
      "text/plain": [
       "datetime.datetime(2002, 10, 2, 0, 0)"
      ]
     },
     "execution_count": 2,
     "metadata": {},
     "output_type": "execute_result"
    }
   ],
   "source": [
    "# The Moscow Times\n",
    "dt_fmt_the_moscow_times = '%A, %B %d, %Y'\n",
    "datetime.strptime('Wednesday, October 2, 2002', dt_fmt_the_moscow_times)"
   ]
  },
  {
   "cell_type": "code",
   "execution_count": 3,
   "metadata": {},
   "outputs": [
    {
     "data": {
      "text/plain": [
       "datetime.datetime(2013, 10, 11, 0, 0)"
      ]
     },
     "execution_count": 3,
     "metadata": {},
     "output_type": "execute_result"
    }
   ],
   "source": [
    "# The Guardian\n",
    "dt_fmt_the_guardian = '%A, %d.%m.%y'\n",
    "datetime.strptime('Friday, 11.10.13', dt_fmt_the_guardian)"
   ]
  },
  {
   "cell_type": "code",
   "execution_count": 4,
   "metadata": {},
   "outputs": [
    {
     "data": {
      "text/plain": [
       "datetime.datetime(1977, 8, 18, 0, 0)"
      ]
     },
     "execution_count": 4,
     "metadata": {},
     "output_type": "execute_result"
    }
   ],
   "source": [
    "# Daily News\n",
    "dt_fmt_daily_news = '%A, %d %B %Y'\n",
    "datetime.strptime('Thursday, 18 August 1977', dt_fmt_daily_news)"
   ]
  },
  {
   "cell_type": "code",
   "execution_count": 5,
   "metadata": {},
   "outputs": [
    {
     "name": "stdout",
     "output_type": "stream",
     "text": [
      "Datetime format for 'The Moscow Times' may be is invalid. Debug info:\n",
      "\tExample datetime: 'Wednesday, October 2, 2002'\n",
      "\tProcessed datetime: 'Wednesday, October 02, 2002'\n",
      "Datetime format for 'The Guardian' is valid.\n",
      "Datetime format for 'Daily News' is valid.\n"
     ]
    }
   ],
   "source": [
    "# Check datetime formats\n",
    "newspapers = ['The Moscow Times', 'The Guardian', 'Daily News']\n",
    "dt_examples = ['Wednesday, October 2, 2002', 'Friday, 11.10.13', 'Thursday, 18 August 1977']\n",
    "dt_formats = [dt_fmt_the_moscow_times, dt_fmt_the_guardian, dt_fmt_daily_news]\n",
    "\n",
    "for newspaper, dt_example, dt_format in zip(newspapers, dt_examples, dt_formats):\n",
    "    dt = datetime.strptime(dt_example, dt_format)\n",
    "    dt_str = datetime.strftime(dt, dt_format)\n",
    "    \n",
    "    if dt_str == dt_example:\n",
    "        print(f'Datetime format for \\'{newspaper}\\' is valid.')\n",
    "    else:\n",
    "        print(f'Datetime format for \\'{newspaper}\\' may be is invalid. Debug info:')\n",
    "        print(f'\\tExample datetime: \\'{dt_example}\\'')\n",
    "        print(f'\\tProcessed datetime: \\'{dt_str}\\'')        "
   ]
  }
 ],
 "metadata": {
  "kernelspec": {
   "display_name": "Python 3",
   "language": "python",
   "name": "python3"
  },
  "language_info": {
   "codemirror_mode": {
    "name": "ipython",
    "version": 3
   },
   "file_extension": ".py",
   "mimetype": "text/x-python",
   "name": "python",
   "nbconvert_exporter": "python",
   "pygments_lexer": "ipython3",
   "version": "3.8.5"
  }
 },
 "nbformat": 4,
 "nbformat_minor": 4
}
