{
 "cells": [
  {
   "cell_type": "markdown",
   "metadata": {},
   "source": [
    "### Задание 1\n",
    "Переведите содержимое файла `purchase_log.txt` в словарь purchases вида:\n",
    "\n",
    "    {‘1840e0b9d4’: ‘Продукты’, …}"
   ]
  },
  {
   "cell_type": "code",
   "execution_count": 1,
   "metadata": {},
   "outputs": [
    {
     "name": "stdout",
     "output_type": "stream",
     "text": [
      "('1840e0b9d4', 'Продукты')\n",
      "('4e4f90fcfb', 'Электроника')\n",
      "('afea8d72fc', 'Электроника')\n",
      "('373a6055fe', 'Бытовая техника')\n",
      "('9b2ab046f3', 'Электроника')\n",
      "('9f39d307c3', 'Электроника')\n",
      "('44edeffc91', 'Продукты')\n"
     ]
    }
   ],
   "source": [
    "import json\n",
    "\n",
    "purchases = {} \n",
    "\n",
    "with open('purchase_log.txt') as f:\n",
    "    for i, line in enumerate(f):\n",
    "        if i == 0: continue \n",
    " \n",
    "        record = json.loads(line)\n",
    "        user_id, category = list(record.values())\n",
    "        purchases[user_id] = category\n",
    "\n",
    "# review output\n",
    "for i, item in enumerate(purchases.items()):\n",
    "    print(item)\n",
    "    if i > 5: break"
   ]
  },
  {
   "cell_type": "markdown",
   "metadata": {},
   "source": [
    "### Задание 2\n",
    "Для каждого `user_id` в файле `visit_log.csv` определите третий столбец с категорией покупки (если покупка была, сам файл `visit_log.csv` изменять не надо). Запишите в файл `funnel.csv` визиты из файла `visit_log.csv`, в которых были покупки с указанием категории.\n",
    "\n",
    "Учтите условия на данные:\n",
    "* содержимое purchase_log.txt помещается в оперативную память компьютера\n",
    "* содержимое visit_log.csv - нет; используйте только построчную обработку этого файла"
   ]
  },
  {
   "cell_type": "code",
   "execution_count": 2,
   "metadata": {},
   "outputs": [
    {
     "name": "stdout",
     "output_type": "stream",
     "text": [
      "user_id,source,category1840e0b9d4,other,Продукты\n",
      "\n",
      "4e4f90fcfb,context,Электроника\n",
      "\n",
      "afea8d72fc,other,Электроника\n",
      "\n",
      "2824221f38,email,Продукты\n",
      "\n",
      "373a6055fe,other,Бытовая техника\n",
      "\n",
      "9b2ab046f3,other,Электроника\n",
      "\n",
      "9f39d307c3,context,Электроника\n",
      "\n"
     ]
    }
   ],
   "source": [
    "with open('visit_log.csv') as visit_log:\n",
    "    with open('funnel.csv', 'w') as funnel:\n",
    "        funnel.write('user_id,source,category')\n",
    "        for i, line in enumerate(visit_log):\n",
    "            if i == 0: continue\n",
    "            \n",
    "            user_id, source = line.strip().split(',')\n",
    "            category = purchases.get(user_id)\n",
    "            \n",
    "            if category is None: continue\n",
    "                \n",
    "            funnel.write(','.join([user_id, source, category]) + '\\n')\n",
    "\n",
    "# review output\n",
    "with open('funnel.csv') as funnel:\n",
    "    for i, line in enumerate(funnel):\n",
    "        print(line)\n",
    "        if i > 5: break"
   ]
  }
 ],
 "metadata": {
  "kernelspec": {
   "display_name": "Python 3",
   "language": "python",
   "name": "python3"
  },
  "language_info": {
   "codemirror_mode": {
    "name": "ipython",
    "version": 3
   },
   "file_extension": ".py",
   "mimetype": "text/x-python",
   "name": "python",
   "nbconvert_exporter": "python",
   "pygments_lexer": "ipython3",
   "version": "3.8.5"
  }
 },
 "nbformat": 4,
 "nbformat_minor": 4
}
