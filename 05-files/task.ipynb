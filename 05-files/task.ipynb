{
 "cells": [
  {
   "cell_type": "markdown",
   "metadata": {},
   "source": [
    "### Задание 1\n",
    "Переведите содержимое файла `purchase_log.txt` в словарь purchases вида:\n",
    "\n",
    "    {‘1840e0b9d4’: ‘Продукты’, …}"
   ]
  },
  {
   "cell_type": "code",
   "execution_count": 1,
   "metadata": {},
   "outputs": [],
   "source": [
    "import json\n",
    "\n",
    "purchases = {} \n",
    "\n",
    "with open('purchase_log.txt') as f:\n",
    "    for i, line in enumerate(f):\n",
    "        if i == 0: continue \n",
    " \n",
    "        record = json.loads(line)\n",
    "        user_id, category = list(record.values())\n",
    "        purchases[user_id] = category"
   ]
  },
  {
   "cell_type": "markdown",
   "metadata": {},
   "source": [
    "### Задание 2\n",
    "Для каждого `user_id` в файле `visit_log.csv` определите третий столбец с категорией покупки (если покупка была, сам файл `visit_log.csv` изменять не надо). Запишите в файл `funnel.csv` визиты из файла `visit_log.csv`, в которых были покупки с указанием категории.\n",
    "\n",
    "Учтите условия на данные:\n",
    "* содержимое purchase_log.txt помещается в оперативную память компьютера\n",
    "* содержимое visit_log.csv - нет; используйте только построчную обработку этого файла"
   ]
  },
  {
   "cell_type": "code",
   "execution_count": 2,
   "metadata": {},
   "outputs": [],
   "source": [
    "with open('visit_log.csv') as visit_log:\n",
    "    with open('funnel.csv', 'w') as funnel:\n",
    "        funnel.write('user_id,source,category')\n",
    "        for i, line in enumerate(visit_log):\n",
    "            if i == 0: continue\n",
    "            \n",
    "            user_id, source = line.strip().split(',')\n",
    "            category = purchases.get(user_id)\n",
    "            \n",
    "            if category is None: continue\n",
    "                \n",
    "            funnel.write(','.join([user_id, source, category]) + '\\n')"
   ]
  }
 ],
 "metadata": {
  "kernelspec": {
   "display_name": "Python 3",
   "language": "python",
   "name": "python3"
  },
  "language_info": {
   "codemirror_mode": {
    "name": "ipython",
    "version": 3
   },
   "file_extension": ".py",
   "mimetype": "text/x-python",
   "name": "python",
   "nbconvert_exporter": "python",
   "pygments_lexer": "ipython3",
   "version": "3.8.5"
  }
 },
 "nbformat": 4,
 "nbformat_minor": 4
}
