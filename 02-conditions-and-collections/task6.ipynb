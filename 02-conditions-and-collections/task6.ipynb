{
 "cells": [
  {
   "cell_type": "markdown",
   "metadata": {},
   "source": [
    "### Задание 6 (необязательное)\n",
    "Необходимо у пользователя запрашивать набор чисел разделенных пробелом. В результате должны выводиться числа, которые повторяются в вводе более одного раза."
   ]
  },
  {
   "cell_type": "code",
   "execution_count": 1,
   "metadata": {},
   "outputs": [
    {
     "name": "stdout",
     "output_type": "stream",
     "text": [
      "Введите числа:\n",
      "4 8 0 3 4 2 0 3\n",
      "Результат:\n",
      "0 3 4\n"
     ]
    }
   ],
   "source": [
    "user_input = input('Введите числа:\\n')\n",
    "#user_input = '4 8 0 3 4 2 0 3'\n",
    "\n",
    "numbers_as_str = user_input.split(' ')\n",
    "\n",
    "numbers = list(map(int, numbers_as_str))\n",
    "\n",
    "# Find unique numberbers\n",
    "unique_numbers = []\n",
    "for number in numbers:\n",
    "    if number not in unique_numbers:\n",
    "        unique_numbers.append(number)\n",
    "    \n",
    "# Calculate frequencies for every numberber in numberbers\n",
    "frequencies = []\n",
    "for unique_number in unique_numbers:\n",
    "    count = numbers.count(unique_number)\n",
    "    frequencies.append((unique_number, count))\n",
    "\n",
    "# Filtering numbers which frequency count more than once\n",
    "result = []    \n",
    "for number, count in frequencies:\n",
    "    if count > 1:\n",
    "        result.append(number)\n",
    "\n",
    "result.sort()\n",
    "print('Результат:')\n",
    "print(' '.join(map(str, result)))"
   ]
  }
 ],
 "metadata": {
  "kernelspec": {
   "display_name": "Python 3",
   "language": "python",
   "name": "python3"
  },
  "language_info": {
   "codemirror_mode": {
    "name": "ipython",
    "version": 3
   },
   "file_extension": ".py",
   "mimetype": "text/x-python",
   "name": "python",
   "nbconvert_exporter": "python",
   "pygments_lexer": "ipython3",
   "version": "3.8.5"
  }
 },
 "nbformat": 4,
 "nbformat_minor": 4
}
