{
 "cells": [
  {
   "cell_type": "markdown",
   "metadata": {},
   "source": [
    "### Задание 6 (необязательное)\n",
    "Необходимо у пользователя запрашивать набор чисел разделенных пробелом. В результате должны выводиться числа, которые повторяются в вводе более одного раза."
   ]
  },
  {
   "cell_type": "code",
   "execution_count": 1,
   "metadata": {},
   "outputs": [
    {
     "name": "stdout",
     "output_type": "stream",
     "text": [
      "Введите набор чисел, разделенных пробелом: 4 8 0 3 4 2 0 3\n",
      "Повторяющиеся числа в наборе:  0 3 4\n"
     ]
    }
   ],
   "source": [
    "user_input = input('Введите набор чисел, разделенных пробелом: ')\n",
    "#user_input = '4 8 0 3 4 2 0 3'\n",
    "\n",
    "numbers = list(map(int, user_input.split(' ')))\n",
    "\n",
    "result = []    \n",
    "for num in numbers:\n",
    "    if numbers.count(num) > 1 and num not in result:\n",
    "        result.append(num)\n",
    "\n",
    "print('Повторяющиеся числа в наборе: ', ' '.join(map(str, sorted(result))))"
   ]
  }
 ],
 "metadata": {
  "kernelspec": {
   "display_name": "Python 3",
   "language": "python",
   "name": "python3"
  },
  "language_info": {
   "codemirror_mode": {
    "name": "ipython",
    "version": 3
   },
   "file_extension": ".py",
   "mimetype": "text/x-python",
   "name": "python",
   "nbconvert_exporter": "python",
   "pygments_lexer": "ipython3",
   "version": "3.8.5"
  }
 },
 "nbformat": 4,
 "nbformat_minor": 4
}
