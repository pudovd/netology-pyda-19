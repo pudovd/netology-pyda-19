{
 "cells": [
  {
   "cell_type": "markdown",
   "metadata": {},
   "source": [
    "### Задание 3\n",
    "Дана переменная, в которой хранится информация о затратах и доходе рекламных кампаний по различным источникам. Необходимо дополнить исходную структуру показателем [ROI](https://ru.wikipedia.org/wiki/%D0%9E%D0%BA%D1%83%D0%BF%D0%B0%D0%B5%D0%BC%D0%BE%D1%81%D1%82%D1%8C_%D0%B8%D0%BD%D0%B2%D0%B5%D1%81%D1%82%D0%B8%D1%86%D0%B8%D0%B9), который рассчитаем по формуле: **(revenue / cost - 1) * 100**"
   ]
  },
  {
   "cell_type": "code",
   "execution_count": 1,
   "metadata": {},
   "outputs": [
    {
     "name": "stdout",
     "output_type": "stream",
     "text": [
      "{'adwords': {'ROI': 2.94, 'cost': 34, 'revenue': 35},\n",
      " 'facebook': {'ROI': -6.36, 'cost': 110, 'revenue': 103},\n",
      " 'twitter': {'ROI': -54.17, 'cost': 24, 'revenue': 11},\n",
      " 'vk': {'ROI': 5.1, 'cost': 98, 'revenue': 103},\n",
      " 'yandex': {'ROI': 16.99, 'cost': 153, 'revenue': 179}}\n"
     ]
    }
   ],
   "source": [
    "import pprint\n",
    "\n",
    "results = {\n",
    "    'vk': {'revenue': 103, 'cost': 98},\n",
    "    'yandex': {'revenue': 179, 'cost': 153},\n",
    "    'facebook': {'revenue': 103, 'cost': 110},\n",
    "    'adwords': {'revenue': 35, 'cost': 34},\n",
    "    'twitter': {'revenue': 11, 'cost': 24},\n",
    "}\n",
    "\n",
    "for campaign, fin_result in results.items():\n",
    "    revenue, cost = fin_result.values()\n",
    "    fin_result['ROI'] = round((revenue / cost - 1) * 100, 2)\n",
    "\n",
    "pprint.pprint(results)"
   ]
  }
 ],
 "metadata": {
  "kernelspec": {
   "display_name": "Python 3",
   "language": "python",
   "name": "python3"
  },
  "language_info": {
   "codemirror_mode": {
    "name": "ipython",
    "version": 3
   },
   "file_extension": ".py",
   "mimetype": "text/x-python",
   "name": "python",
   "nbconvert_exporter": "python",
   "pygments_lexer": "ipython3",
   "version": "3.8.5"
  }
 },
 "nbformat": 4,
 "nbformat_minor": 4
}
