{
 "cells": [
  {
   "cell_type": "markdown",
   "metadata": {},
   "source": [
    "### Задание 6\n",
    "Дана книга рецептов с информацией о том, сколько ингредиентов нужно для приготовления блюда в расчете на одну порцию (пример данных представлен ниже).  \n",
    "Напишите программу, которая будет запрашивать у пользователя количество порций для приготовления этих блюд и отображать информацию о суммарном количестве требуемых ингредиентов в указанном виде.  \n",
    "**Внимание!** Одинаковые ингридиенты с разными размерностями нужно считать раздельно!"
   ]
  },
  {
   "cell_type": "code",
   "execution_count": 1,
   "metadata": {},
   "outputs": [],
   "source": [
    "cook_book = {\n",
    "  'салат': [\n",
    "     {'ingridient_name': 'сыр', 'quantity': 50, 'measure': 'гр'},\n",
    "     {'ingridient_name': 'томаты', 'quantity': 2, 'measure': 'шт'},\n",
    "     {'ingridient_name': 'огурцы', 'quantity': 20, 'measure': 'гр'},\n",
    "     {'ingridient_name': 'маслины', 'quantity': 10, 'measure': 'гр'},\n",
    "     {'ingridient_name': 'оливковое масло', 'quantity': 20, 'measure': 'мл'},\n",
    "     {'ingridient_name': 'салат', 'quantity': 10, 'measure': 'гр'},\n",
    "     {'ingridient_name': 'перец', 'quantity': 20, 'measure': 'гр'}\n",
    "    ],\n",
    "  'пицца': [\n",
    "     {'ingridient_name': 'сыр', 'quantity': 20, 'measure': 'гр'},\n",
    "     {'ingridient_name': 'колбаса', 'quantity': 30, 'measure': 'гр'},\n",
    "     {'ingridient_name': 'бекон', 'quantity': 30, 'measure': 'гр'},\n",
    "     {'ingridient_name': 'оливки', 'quantity': 10, 'measure': 'гр'},\n",
    "     {'ingridient_name': 'томаты', 'quantity': 20, 'measure': 'гр'},\n",
    "     {'ingridient_name': 'тесто', 'quantity': 100, 'measure': 'гр'},   \n",
    "    ],\n",
    "  'лимонад': [\n",
    "     {'ingridient_name': 'лимон', 'quantity': 1, 'measure': 'шт'},\n",
    "     {'ingridient_name': 'вода', 'quantity': 200, 'measure': 'мл'},\n",
    "     {'ingridient_name': 'сахар', 'quantity': 10, 'measure': 'гр'},\n",
    "     {'ingridient_name': 'лайм', 'quantity': 20, 'measure': 'гр'},    \n",
    "    ]\n",
    "}"
   ]
  },
  {
   "cell_type": "markdown",
   "metadata": {},
   "source": [
    "### Получение списка ингредиентов без учета блюда:"
   ]
  },
  {
   "cell_type": "code",
   "execution_count": 2,
   "metadata": {},
   "outputs": [
    {
     "data": {
      "text/plain": [
       "[{'ingridient_name': 'сыр', 'quantity': 50, 'measure': 'гр'},\n",
       " {'ingridient_name': 'томаты', 'quantity': 2, 'measure': 'шт'},\n",
       " {'ingridient_name': 'огурцы', 'quantity': 20, 'measure': 'гр'},\n",
       " {'ingridient_name': 'маслины', 'quantity': 10, 'measure': 'гр'},\n",
       " {'ingridient_name': 'оливковое масло', 'quantity': 20, 'measure': 'мл'},\n",
       " {'ingridient_name': 'салат', 'quantity': 10, 'measure': 'гр'},\n",
       " {'ingridient_name': 'перец', 'quantity': 20, 'measure': 'гр'},\n",
       " {'ingridient_name': 'сыр', 'quantity': 20, 'measure': 'гр'},\n",
       " {'ingridient_name': 'колбаса', 'quantity': 30, 'measure': 'гр'},\n",
       " {'ingridient_name': 'бекон', 'quantity': 30, 'measure': 'гр'},\n",
       " {'ingridient_name': 'оливки', 'quantity': 10, 'measure': 'гр'},\n",
       " {'ingridient_name': 'томаты', 'quantity': 20, 'measure': 'гр'},\n",
       " {'ingridient_name': 'тесто', 'quantity': 100, 'measure': 'гр'},\n",
       " {'ingridient_name': 'лимон', 'quantity': 1, 'measure': 'шт'},\n",
       " {'ingridient_name': 'вода', 'quantity': 200, 'measure': 'мл'},\n",
       " {'ingridient_name': 'сахар', 'quantity': 10, 'measure': 'гр'},\n",
       " {'ingridient_name': 'лайм', 'quantity': 20, 'measure': 'гр'}]"
      ]
     },
     "execution_count": 2,
     "metadata": {},
     "output_type": "execute_result"
    }
   ],
   "source": [
    "ingredients = []\n",
    "for ingredient in cook_book.values():\n",
    "    ingredients += ingredient\n",
    "\n",
    "ingredients"
   ]
  },
  {
   "cell_type": "markdown",
   "metadata": {},
   "source": [
    "### Подготовка ингредиентов в удобный для обработки вид:"
   ]
  },
  {
   "cell_type": "code",
   "execution_count": 3,
   "metadata": {},
   "outputs": [
    {
     "data": {
      "text/plain": [
       "{'сыр': [('гр', 50), ('гр', 20)],\n",
       " 'томаты': [('шт', 2), ('гр', 20)],\n",
       " 'огурцы': [('гр', 20)],\n",
       " 'маслины': [('гр', 10)],\n",
       " 'оливковое масло': [('мл', 20)],\n",
       " 'салат': [('гр', 10)],\n",
       " 'перец': [('гр', 20)],\n",
       " 'колбаса': [('гр', 30)],\n",
       " 'бекон': [('гр', 30)],\n",
       " 'оливки': [('гр', 10)],\n",
       " 'тесто': [('гр', 100)],\n",
       " 'лимон': [('шт', 1)],\n",
       " 'вода': [('мл', 200)],\n",
       " 'сахар': [('гр', 10)],\n",
       " 'лайм': [('гр', 20)]}"
      ]
     },
     "execution_count": 3,
     "metadata": {},
     "output_type": "execute_result"
    }
   ],
   "source": [
    "prepared_ingredients = {}\n",
    "for ingredient in ingredients:\n",
    "    name, quantity, measure = list(ingredient.values())\n",
    "\n",
    "    saved_list = prepared_ingredients.get(name, [])\n",
    "    saved_list.append((measure, quantity))\n",
    "    prepared_ingredients[name] = saved_list    \n",
    "\n",
    "prepared_ingredients"
   ]
  },
  {
   "cell_type": "markdown",
   "metadata": {},
   "source": [
    "### Подсчет итогового количества ингредиентов с учетом измерения для одного блюда:"
   ]
  },
  {
   "cell_type": "code",
   "execution_count": 4,
   "metadata": {},
   "outputs": [
    {
     "data": {
      "text/plain": [
       "{'сыр': {'гр': 70},\n",
       " 'томаты': {'шт': 2, 'гр': 20},\n",
       " 'огурцы': {'гр': 20},\n",
       " 'маслины': {'гр': 10},\n",
       " 'оливковое масло': {'мл': 20},\n",
       " 'салат': {'гр': 10},\n",
       " 'перец': {'гр': 20},\n",
       " 'колбаса': {'гр': 30},\n",
       " 'бекон': {'гр': 30},\n",
       " 'оливки': {'гр': 10},\n",
       " 'тесто': {'гр': 100},\n",
       " 'лимон': {'шт': 1},\n",
       " 'вода': {'мл': 200},\n",
       " 'сахар': {'гр': 10},\n",
       " 'лайм': {'гр': 20}}"
      ]
     },
     "execution_count": 4,
     "metadata": {},
     "output_type": "execute_result"
    }
   ],
   "source": [
    "merged_ingredients = {}\n",
    "for name, quantities in prepared_ingredients.items():\n",
    "    merged_ingredients[name] = {}\n",
    "    \n",
    "    for measure, quantity in quantities:\n",
    "        saved_quantity = merged_ingredients[name].get(measure, 0)\n",
    "        merged_ingredients[name][measure] = saved_quantity + quantity\n",
    "\n",
    "merged_ingredients"
   ]
  },
  {
   "cell_type": "markdown",
   "metadata": {},
   "source": [
    "### Финальный расчет для количества персон:"
   ]
  },
  {
   "cell_type": "code",
   "execution_count": 5,
   "metadata": {},
   "outputs": [
    {
     "name": "stdout",
     "output_type": "stream",
     "text": [
      "Введите количество порций:\n",
      "3\n",
      "\n",
      "Сыр: 210 гр\n",
      "Томаты: 6 шт\n",
      "Томаты: 60 гр\n",
      "Огурцы: 60 гр\n",
      "Маслины: 30 гр\n",
      "Оливковое масло: 60 мл\n",
      "Салат: 30 гр\n",
      "Перец: 60 гр\n",
      "Колбаса: 90 гр\n",
      "Бекон: 90 гр\n",
      "Оливки: 30 гр\n",
      "Тесто: 300 гр\n",
      "Лимон: 3 шт\n",
      "Вода: 600 мл\n",
      "Сахар: 30 гр\n",
      "Лайм: 60 гр\n"
     ]
    }
   ],
   "source": [
    "person = int(input('Введите количество порций:\\n'))\n",
    "\n",
    "print()\n",
    "for ingredient, quantities in merged_ingredients.items():\n",
    "    for measure, quantity in quantities.items():\n",
    "        print(f'{ingredient.capitalize()}: {quantity * person} {measure}')"
   ]
  }
 ],
 "metadata": {
  "kernelspec": {
   "display_name": "Python 3",
   "language": "python",
   "name": "python3"
  },
  "language_info": {
   "codemirror_mode": {
    "name": "ipython",
    "version": 3
   },
   "file_extension": ".py",
   "mimetype": "text/x-python",
   "name": "python",
   "nbconvert_exporter": "python",
   "pygments_lexer": "ipython3",
   "version": "3.8.5"
  }
 },
 "nbformat": 4,
 "nbformat_minor": 4
}
