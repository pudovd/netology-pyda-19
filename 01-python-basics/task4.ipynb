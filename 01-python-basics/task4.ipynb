{
 "cells": [
  {
   "cell_type": "markdown",
   "metadata": {},
   "source": [
    "### Задание 4\n",
    "\n",
    "Вам нужно написать программу для подбора упаковок по размерам товара. Размеры (ширина, длина, высота) хранятся в переменных (в сантиметрах):\n",
    "\n",
    "Используйте следующие правила:\n",
    "* если каждое из трех измерений менее 15 сантиметров, то выведите на экран \"Коробка №1\";\n",
    "* если хотя бы одно из измерений больше 15 сантиметров, но менее 50 сантиметров, то выводите \"Коробка №2\";\n",
    "* если длина товара больше 2 метров, то выводите \"Упаковка для лыж\";\n",
    "* во всех остальных случаях выводите \"Стандартная коробка №3\".\n"
   ]
  },
  {
   "cell_type": "code",
   "execution_count": 1,
   "metadata": {},
   "outputs": [],
   "source": [
    "width = 15\n",
    "length = 50\n",
    "height = 15\n",
    "\n",
    "result = ''\n",
    "if width < 15 and length < 15 and height < 15:\n",
    "    result = 'Коробка №1'\n",
    "elif width < 50 and length < 50 and height < 50:\n",
    "    result = 'Коробка №2'\n",
    "elif length > 200:\n",
    "    result = 'Упаковка для лыж'\n",
    "else:\n",
    "    result = 'Стандартная коробка №3'\n",
    "\n",
    "print(f'Результат:\\n{result}')"
   ]
  }
 ],
 "metadata": {
  "kernelspec": {
   "display_name": "Python 3",
   "language": "python",
   "name": "python3"
  },
  "language_info": {
   "codemirror_mode": {
    "name": "ipython",
    "version": 3
   },
   "file_extension": ".py",
   "mimetype": "text/x-python",
   "name": "python",
   "nbconvert_exporter": "python",
   "pygments_lexer": "ipython3",
   "version": "3.8.5"
  }
 },
 "nbformat": 4,
 "nbformat_minor": 4
}
