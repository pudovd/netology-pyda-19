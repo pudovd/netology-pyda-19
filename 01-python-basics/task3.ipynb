{
 "cells": [
  {
   "cell_type": "markdown",
   "metadata": {},
   "source": [
    "### Задание 3\n",
    "\n",
    "Необходимо написать программу, которая будет запрашивать у пользователя месяц и дату рождения и выводить соответствующий знак зодиака."
   ]
  },
  {
   "cell_type": "markdown",
   "metadata": {},
   "source": [
    "### Справочная информация\n",
    "https://microexcel.ru/znaki-zodiaka/"
   ]
  },
  {
   "cell_type": "code",
   "execution_count": 1,
   "metadata": {},
   "outputs": [
    {
     "name": "stdout",
     "output_type": "stream",
     "text": [
      "Введите день:\n",
      "8\n",
      "Введите месяц:\n",
      "август\n",
      "Результат:\n",
      "Ваш знак зодиака: Лев\n"
     ]
    }
   ],
   "source": [
    "day_of_birth = int(input('Введите день:\\n'))\n",
    "month_of_birth = input('Введите месяц:\\n').lower()\n",
    "\n",
    "zodiac = 'Неизвестно'\n",
    "if (month_of_birth == 'март' and day_of_birth >= 21) or (month_of_birth == 'апрель' and day_of_birth <= 19):\n",
    "    zodiac = 'Овен'\n",
    "elif (month_of_birth == 'апрель' and day_of_birth >= 20) or (month_of_birth == 'май' and day_of_birth <= 20):\n",
    "    zodiac = 'Телец'\n",
    "elif (month_of_birth == 'май' and day_of_birth >= 21) or (month_of_birth == 'июнь' and day_of_birth <= 20):\n",
    "    zodiac = 'Близнецы'\n",
    "elif (month_of_birth == 'июнь' and day_of_birth >= 21) or (month_of_birth == 'июль' and day_of_birth <= 22):\n",
    "    zodiac = 'Рак'\n",
    "elif (month_of_birth == 'июль' and day_of_birth >= 23) or (month_of_birth == 'август' and day_of_birth <= 22):\n",
    "    zodiac = 'Лев'\n",
    "elif (month_of_birth == 'август' and day_of_birth >= 23) or (month_of_birth == 'сентябрь' and day_of_birth <= 22):\n",
    "    zodiac = 'Дева'\n",
    "elif (month_of_birth == 'сентябрь' and day_of_birth >= 23) or (month_of_birth == 'октябрь' and day_of_birth <= 22):\n",
    "    zodiac = 'Весы'\n",
    "elif (month_of_birth == 'октябрь' and day_of_birth >= 23) or (month_of_birth == 'ноябрь' and day_of_birth <= 21):\n",
    "    zodiac = 'Скорпион'\n",
    "elif (month_of_birth == 'ноябрь' and day_of_birth >= 22) or (month_of_birth == 'декабрь' and day_of_birth <= 21):\n",
    "    zodiac = 'Стрелец'\n",
    "elif (month_of_birth == 'декабрь' and day_of_birth >= 22) or (month_of_birth == 'январь' and day_of_birth <= 19):\n",
    "    zodiac = 'Козерог'\n",
    "elif (month_of_birth == 'январь' and day_of_birth >= 20) or (month_of_birth == 'февраль' and day_of_birth <= 18):\n",
    "    zodiac = 'Водолей'\n",
    "elif (month_of_birth == 'февраль' and day_of_birth >= 19) or (month_of_birth == 'март' and day_of_birth <= 20):\n",
    "    zodiac = 'Рыбы'\n",
    "else:\n",
    "    print(f'Ошибка! Вы ввели неизвестный месяц: {month_of_birth}')\n",
    "    \n",
    "print(f'Результат:\\nВаш знак зодиака: {zodiac}')"
   ]
  }
 ],
 "metadata": {
  "kernelspec": {
   "display_name": "Python 3",
   "language": "python",
   "name": "python3"
  },
  "language_info": {
   "codemirror_mode": {
    "name": "ipython",
    "version": 3
   },
   "file_extension": ".py",
   "mimetype": "text/x-python",
   "name": "python",
   "nbconvert_exporter": "python",
   "pygments_lexer": "ipython3",
   "version": "3.8.5"
  }
 },
 "nbformat": 4,
 "nbformat_minor": 4
}
