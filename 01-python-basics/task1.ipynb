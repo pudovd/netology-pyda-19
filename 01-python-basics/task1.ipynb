{
 "cells": [
  {
   "cell_type": "markdown",
   "metadata": {},
   "source": [
    "### Задание 1\n",
    "\n",
    "Даны 2 переменных, в которых хранятся строки произвольной длины: phrase_1 и phrase_2.\n",
    "Напишите код, который проверяет какая из этих строк длиннее."
   ]
  },
  {
   "cell_type": "code",
   "execution_count": 2,
   "metadata": {},
   "outputs": [
    {
     "name": "stdout",
     "output_type": "stream",
     "text": [
      "Результат:\n",
      "Фразы равной длины\n"
     ]
    }
   ],
   "source": [
    "phrase_1 = 'phrase_1'\n",
    "phrase_2 = 'phrase_2'\n",
    "\n",
    "result = ''\n",
    "if len(phrase_1) > len(phrase_2):\n",
    "    result = 'Фраза 1 длиннее фразы 2'\n",
    "elif len(phrase_1) < len(phrase_2):\n",
    "    result = 'Фраза 2 длиннее фразы 1'\n",
    "else:\n",
    "    result = 'Фразы равной длины'\n",
    "\n",
    "print(f'Результат:\\n{result}')"
   ]
  }
 ],
 "metadata": {
  "kernelspec": {
   "display_name": "Python 3",
   "language": "python",
   "name": "python3"
  },
  "language_info": {
   "codemirror_mode": {
    "name": "ipython",
    "version": 3
   },
   "file_extension": ".py",
   "mimetype": "text/x-python",
   "name": "python",
   "nbconvert_exporter": "python",
   "pygments_lexer": "ipython3",
   "version": "3.8.5"
  }
 },
 "nbformat": 4,
 "nbformat_minor": 4
}
