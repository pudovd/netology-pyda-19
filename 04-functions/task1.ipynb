{
 "cells": [
  {
   "cell_type": "markdown",
   "metadata": {},
   "source": [
    "### Задание\n",
    "Вам нужно помочь секретарю автоматизировать работу. Для этого нужно написать программу, которая будет на основе хранимых данных исполнять пользовательские команды."
   ]
  },
  {
   "cell_type": "code",
   "execution_count": 1,
   "metadata": {},
   "outputs": [],
   "source": [
    "documents = [\n",
    " {'type': 'passport', 'number': '2207 876234', 'name': 'Василий Гупкин'},\n",
    " {'type': 'invoice', 'number': '11-2', 'name': 'Геннадий Покемонов'},\n",
    " {'type': 'insurance', 'number': '10006', 'name': 'Аристарх Павлов'}\n",
    "]\n",
    "\n",
    "directories = {\n",
    " '1': ['2207 876234', '11-2'],\n",
    " '2': ['10006'],\n",
    " '3': []\n",
    "}"
   ]
  },
  {
   "cell_type": "code",
   "execution_count": 2,
   "metadata": {},
   "outputs": [],
   "source": [
    "def person_by_document_number(documents, number=None):\n",
    "    if number is None:\n",
    "        number = input('Введите номер документа: ')\n",
    "        \n",
    "    for document in documents:\n",
    "        document_type, document_number, name = document.values()\n",
    "        if document_number == number:\n",
    "            print(f'Владелец документа: {name}')\n",
    "            return\n",
    "\n",
    "    print('Документ не найден в базе')\n",
    "\n",
    "#person_by_document_number(documents, '10006')\n",
    "#person_by_document_number(documents, '12345')"
   ]
  },
  {
   "cell_type": "code",
   "execution_count": 3,
   "metadata": {},
   "outputs": [],
   "source": [
    "def find_shelf_by_document_number(shelves, number):\n",
    "    for shelf, numbers in shelves.items():\n",
    "        if number in numbers:\n",
    "            return shelf"
   ]
  },
  {
   "cell_type": "code",
   "execution_count": 4,
   "metadata": {},
   "outputs": [],
   "source": [
    "def shelf_by_document_number(shelves, number=None):\n",
    "    if number is None:\n",
    "        number = input('Введите номер документа: ')\n",
    "        \n",
    "    shelf = find_shelf_by_document_number(shelves, number)\n",
    "    if shelf:\n",
    "        print(f'Документ хранится на полке: {shelf}')\n",
    "    else:\n",
    "        print('Документ не найден в базе')\n",
    "\n",
    "#shelf_by_document_number(directories, '10006')\n",
    "#shelf_by_document_number(directories, '12345')"
   ]
  },
  {
   "cell_type": "code",
   "execution_count": 5,
   "metadata": {},
   "outputs": [],
   "source": [
    "def list_all_documents(documents, shelves):\n",
    "    for document in documents:\n",
    "        document_type, number, name = document.values()\n",
    "        shelf = find_shelf_by_document_number(shelves, number)\n",
    "        print(f'№: {number}, тип: {document_type}, владелец: {name}, полка хранения: {shelf}')\n",
    "\n",
    "                \n",
    "#list_all_documents(documents, directories)"
   ]
  },
  {
   "cell_type": "code",
   "execution_count": 6,
   "metadata": {},
   "outputs": [],
   "source": [
    "def add_shelf(shelves, shelf=None):\n",
    "    if shelf is None:\n",
    "        shelf = input('Введите номер полки: ')\n",
    "        \n",
    "    if shelf in shelves:\n",
    "        print('Такая полка уже существует. ', end='')\n",
    "    else:\n",
    "        shelves[shelf] = []\n",
    "        print('Полка добавлена', end='')\n",
    "        \n",
    "    print('Текущий перечень полок: ' + ', '.join(shelves) + '.')\n",
    "\n",
    "#add_shelf(directories, '1')\n",
    "#add_shelf(directories, '10')"
   ]
  },
  {
   "cell_type": "code",
   "execution_count": 7,
   "metadata": {},
   "outputs": [],
   "source": [
    "def delete_shelf(shelves, shelf=None):\n",
    "    if shelf is None:\n",
    "        shelf = input('Введите номер полки: ')\n",
    "    \n",
    "    if shelf not in shelves:\n",
    "        print('Такой полки не существует. ', end='')\n",
    "    else:\n",
    "        documents = shelves.get(shelf, [])\n",
    "        if documents == []:\n",
    "            del shelves[shelf]\n",
    "            print('Полка удалена. ', end='')\n",
    "        else:\n",
    "            print('На полке есть документа, удалите их перед удалением полки. ', end='')\n",
    "    \n",
    "    \n",
    "    print('Текущий перечень полок: ' + ', '.join(shelves) + '.')\n",
    "    \n",
    "#delete_shelf(directories, '3')    \n",
    "#delete_shelf(directories, '1')\n",
    "#delete_shelf(directories, '4')"
   ]
  },
  {
   "cell_type": "code",
   "execution_count": 7,
   "metadata": {},
   "outputs": [
    {
     "name": "stdout",
     "output_type": "stream",
     "text": [
      "Введите команду: l\n",
      "№: 2207 876234, тип: passport, владелец: Василий Гупкин, полка хранения: 1\n",
      "№: 11-2, тип: invoice, владелец: Геннадий Покемонов, полка хранения: 1\n",
      "№: 10006, тип: insurance, владелец: Аристарх Павлов, полка хранения: 2\n",
      "Введите команду: \n",
      "Неизвестная команда\n",
      "Введите команду: q\n"
     ]
    }
   ],
   "source": [
    "while True:\n",
    "    user_input = input('Введите команду: ')\n",
    "    if user_input == 'p':\n",
    "        person_by_document_number(documents)\n",
    "    elif user_input == 's':\n",
    "        shelf_by_document_number(directories)\n",
    "    elif user_input == 'l':\n",
    "        list_all_documents(documents, directories)\n",
    "    elif user_input == 'ads':\n",
    "        add_shelf(directories)\n",
    "    elif user_input == 'ds':\n",
    "        delete_shelf(directories)\n",
    "    elif user_input == 'q':\n",
    "        break\n",
    "    else:\n",
    "        print('Неизвестная команда')"
   ]
  }
 ],
 "metadata": {
  "kernelspec": {
   "display_name": "Python 3",
   "language": "python",
   "name": "python3"
  },
  "language_info": {
   "codemirror_mode": {
    "name": "ipython",
    "version": 3
   },
   "file_extension": ".py",
   "mimetype": "text/x-python",
   "name": "python",
   "nbconvert_exporter": "python",
   "pygments_lexer": "ipython3",
   "version": "3.8.5"
  }
 },
 "nbformat": 4,
 "nbformat_minor": 4
}
