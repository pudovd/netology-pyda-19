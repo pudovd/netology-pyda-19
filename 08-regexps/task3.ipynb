{
 "cells": [
  {
   "cell_type": "markdown",
   "metadata": {},
   "source": [
    "### Задание 3\n",
    "\n",
    "Напишите функцию, которая будет возвращать акроним по переданной в нее строке со словами."
   ]
  },
  {
   "cell_type": "code",
   "execution_count": 1,
   "metadata": {},
   "outputs": [],
   "source": [
    "import re\n",
    "\n",
    "def evaluate_acronym(words):\n",
    "    as_list = re.findall('\\w+', words)\n",
    "    return ''.join([x[0].upper() for x in as_list])"
   ]
  },
  {
   "cell_type": "code",
   "execution_count": 2,
   "metadata": {},
   "outputs": [
    {
     "name": "stdout",
     "output_type": "stream",
     "text": [
      "\"Информационные технологии\"\t=> \"ИТ\"\n",
      "\"Near Field Communication\"\t=> \"NFC\"\n"
     ]
    }
   ],
   "source": [
    "some_words = ['Информационные технологии', 'Near Field Communication']\n",
    "\n",
    "for words in some_words:\n",
    "    acronym = evaluate_acronym(words)\n",
    "    print(f'\"{words}\"\\t=> \"{acronym}\"')"
   ]
  }
 ],
 "metadata": {
  "kernelspec": {
   "display_name": "Python 3",
   "language": "python",
   "name": "python3"
  },
  "language_info": {
   "codemirror_mode": {
    "name": "ipython",
    "version": 3
   },
   "file_extension": ".py",
   "mimetype": "text/x-python",
   "name": "python",
   "nbconvert_exporter": "python",
   "pygments_lexer": "ipython3",
   "version": "3.8.5"
  }
 },
 "nbformat": 4,
 "nbformat_minor": 4
}
