{
 "cells": [
  {
   "cell_type": "markdown",
   "metadata": {},
   "source": [
    "### Задание 6 (необязательное)\n",
    "\n",
    "Напишите функцию, которая будет проверять номер сотового телефона на валидность (только для российского формата), если он валиден, то переводить его в формат:\n",
    "+7-xxx-xxx-xx-xx"
   ]
  },
  {
   "cell_type": "code",
   "execution_count": 1,
   "metadata": {},
   "outputs": [],
   "source": [
    "import re\n",
    "\n",
    "def ru_telephone_number(number):\n",
    "    only_digits = re.sub('\\D', '', number)\n",
    "    \n",
    "    # check number length\n",
    "    if len(only_digits) != 11:\n",
    "        raise ValueError(\"Длина номера не совпадает\")\n",
    "    \n",
    "    # check RU prefix\n",
    "    if re.match('[78]', only_digits) is None:\n",
    "        raise ValueError(\"Не РФ номер\")\n",
    "        \n",
    "    return f'+7-{only_digits[1:4]}-{only_digits[4:7]}-{only_digits[7:9]}-{only_digits[9:11]}'"
   ]
  },
  {
   "cell_type": "code",
   "execution_count": 2,
   "metadata": {},
   "outputs": [
    {
     "name": "stdout",
     "output_type": "stream",
     "text": [
      "Номер '+7 955 555-55-55' валиден: +7-955-555-55-55\n",
      "Номер '8(955)555-55-55' валиден: +7-955-555-55-55\n",
      "Номер '+7 955 555 55 55' валиден: +7-955-555-55-55\n",
      "Номер '7(955) 555-55-55' валиден: +7-955-555-55-55\n",
      "Номер '423-555-55-5555' не валиден.\n",
      "Номер '123-456-789' не валиден.\n"
     ]
    }
   ],
   "source": [
    "numbers = [\n",
    "    '+7 955 555-55-55',\n",
    "    '8(955)555-55-55',\n",
    "    '+7 955 555 55 55',\n",
    "    '7(955) 555-55-55',\n",
    "    '423-555-55-5555',\n",
    "    '123-456-789'\n",
    "]\n",
    "\n",
    "for number in numbers:\n",
    "    try:\n",
    "        pretty_number = ru_telephone_number(number)\n",
    "        print(f'Номер \\'{number}\\' валиден: {pretty_number}')\n",
    "    except ValueError:\n",
    "        print(f'Номер \\'{number}\\' не валиден.')"
   ]
  }
 ],
 "metadata": {
  "kernelspec": {
   "display_name": "Python 3",
   "language": "python",
   "name": "python3"
  },
  "language_info": {
   "codemirror_mode": {
    "name": "ipython",
    "version": 3
   },
   "file_extension": ".py",
   "mimetype": "text/x-python",
   "name": "python",
   "nbconvert_exporter": "python",
   "pygments_lexer": "ipython3",
   "version": "3.8.5"
  }
 },
 "nbformat": 4,
 "nbformat_minor": 4
}
