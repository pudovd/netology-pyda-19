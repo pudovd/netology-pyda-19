{
 "cells": [
  {
   "cell_type": "markdown",
   "metadata": {},
   "source": [
    "### Задание 1\n",
    "\n",
    "Напишите функцию, которая принимает на вход строку и проверяет является ли она валидным транспортным номером (1 буква, 3 цифры, 2 буквы, 2-3 цифры). Обратите внимание, что не все буквы кириллического алфавита используются в транспортных номерах.\n",
    "\n",
    "Если номер валиден, то функция должна возвращать отдельно номер и регион."
   ]
  },
  {
   "cell_type": "code",
   "execution_count": 1,
   "metadata": {},
   "outputs": [],
   "source": [
    "import re\n",
    "\n",
    "\n",
    "def validate_transport_number(transport_number, regex=r'(\\w\\d{3}\\w{2})(\\d{2,3})'):\n",
    "    m = re.match(regex, transport_number)\n",
    "    if m:\n",
    "        return (m.group(1), m.group(2))"
   ]
  },
  {
   "cell_type": "code",
   "execution_count": 2,
   "metadata": {},
   "outputs": [
    {
     "name": "stdout",
     "output_type": "stream",
     "text": [
      "Номер A222BC валиден. Регион: 96\n",
      "Номер не валиден\n"
     ]
    }
   ],
   "source": [
    "transport_numbers = ['A222BC96', 'АБ22ВВ193']\n",
    "\n",
    "for transport_number in transport_numbers:\n",
    "    validated_transport_number = validate_transport_number(transport_number)\n",
    "    if validated_transport_number is not None:\n",
    "        number, region = validated_transport_number\n",
    "        print(f'Номер {number} валиден. Регион: {region}')\n",
    "    else:\n",
    "        print(f'Номер не валиден')"
   ]
  }
 ],
 "metadata": {
  "kernelspec": {
   "display_name": "Python 3",
   "language": "python",
   "name": "python3"
  },
  "language_info": {
   "codemirror_mode": {
    "name": "ipython",
    "version": 3
   },
   "file_extension": ".py",
   "mimetype": "text/x-python",
   "name": "python",
   "nbconvert_exporter": "python",
   "pygments_lexer": "ipython3",
   "version": "3.8.5"
  }
 },
 "nbformat": 4,
 "nbformat_minor": 4
}
