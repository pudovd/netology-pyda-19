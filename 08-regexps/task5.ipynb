{
 "cells": [
  {
   "cell_type": "markdown",
   "metadata": {},
   "source": [
    "### Задание 5 (необязательное)\n",
    "\n",
    "Напишите функцию, которая будет подсчитывать сколько слов начинается на гласные, а сколько на согласные буквы в тексте (текст может быть написан как с использованием букв кириллицы, так и латиницы)."
   ]
  },
  {
   "cell_type": "code",
   "execution_count": 1,
   "metadata": {},
   "outputs": [],
   "source": [
    "import re\n",
    "\n",
    "vowels_ru = 'ауоыиэяюёе'\n",
    "consonants_ru = 'бвгджзйклмнпрстфхцчшщ'\n",
    "vowels_en = 'aeiou'\n",
    "consonants_en = 'bcdfghjklmnpqrstvwxyz'\n",
    "\n",
    "vowels = r'[' + vowels_ru + vowels_en + ']'\n",
    "consonants = r'[' + consonants_ru + consonants_en + ']'\n",
    "\n",
    "\n",
    "def word_count_starting_with_consonants_and_vowels(text, vowels=vowels, consonants=consonants):\n",
    "    vowels_words = re.findall(r'\\b' + vowels + r'\\w*', text, re.I)\n",
    "    consonants_words = re.findall(r'\\b' + consonants + r'\\w*', text, re.I) \n",
    "    \n",
    "    return (len(consonants_words), len(vowels_words))"
   ]
  },
  {
   "cell_type": "code",
   "execution_count": 2,
   "metadata": {},
   "outputs": [
    {
     "name": "stdout",
     "output_type": "stream",
     "text": [
      "Слов на гласные буквы: 9\n",
      "Слов на согласные буквы: 21\n"
     ]
    }
   ],
   "source": [
    "some_text = 'Эталонной реализацией Python является интерпретатор CPython, поддерживающий большинство активно \\\n",
    "используемых платформ. Он распространяется под свободной лицензией Python Software Foundation License, \\\n",
    "позволяющей использовать его без ограничений в любых приложениях, включая проприетарные.'\n",
    "\n",
    "consonant_count, vowel_count = word_count_starting_with_consonants_and_vowels(some_text)\n",
    "print(f'Слов на гласные буквы: {vowel_count}')\n",
    "print(f'Слов на согласные буквы: {consonant_count}')"
   ]
  }
 ],
 "metadata": {
  "kernelspec": {
   "display_name": "Python 3",
   "language": "python",
   "name": "python3"
  },
  "language_info": {
   "codemirror_mode": {
    "name": "ipython",
    "version": 3
   },
   "file_extension": ".py",
   "mimetype": "text/x-python",
   "name": "python",
   "nbconvert_exporter": "python",
   "pygments_lexer": "ipython3",
   "version": "3.8.5"
  }
 },
 "nbformat": 4,
 "nbformat_minor": 4
}
